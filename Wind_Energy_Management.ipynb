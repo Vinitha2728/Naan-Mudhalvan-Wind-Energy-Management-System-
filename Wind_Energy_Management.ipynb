{
 "cells": [
  {
   "cell_type": "code",
   "execution_count": null,
   "id": "e7fdc2be",
   "metadata": {},
   "outputs": [],
   "source": [
    "import pandas as pd\n",
    "import numpy as np\n",
    "from sklearn.model_selection import train_test_split\n",
    "from sklearn.linear_model import LinearRegression\n",
    "import matplotlib.pyplot as plt"
   ]
  },
  {
   "cell_type": "code",
   "execution_count": null,
   "id": "477a1188",
   "metadata": {},
   "outputs": [],
   "source": [
    "# Sample Wind Energy Dataset\n",
    "data = {\n",
    "    'Wind Speed (m/s)': [5.0, 6.5, 7.8, 9.0, 10.5, 12.0, 15.0],\n",
    "    'Power Output (kW)': [80, 140, 200, 280, 350, 420, 500]\n",
    "}\n",
    "df = pd.DataFrame(data)\n",
    "display(df)"
   ]
  },
  {
   "cell_type": "code",
   "execution_count": null,
   "id": "e338c0ee",
   "metadata": {},
   "outputs": [],
   "source": [
    "# Prepare Data\n",
    "X = df[['Wind Speed (m/s)']]\n",
    "y = df['Power Output (kW)']\n",
    "X_train, X_test, y_train, y_test = train_test_split(X, y, test_size=0.2, random_state=42)"
   ]
  },
  {
   "cell_type": "code",
   "execution_count": null,
   "id": "e28b28ce",
   "metadata": {},
   "outputs": [],
   "source": [
    "# Train Model\n",
    "model = LinearRegression()\n",
    "model.fit(X_train, y_train)\n",
    "print('Model Trained Successfully')"
   ]
  },
  {
   "cell_type": "code",
   "execution_count": null,
   "id": "ca023495",
   "metadata": {},
   "outputs": [],
   "source": [
    "# Predict Power Output\n",
    "new_wind_speeds = pd.DataFrame({'Wind Speed (m/s)': [8, 12, 15]})\n",
    "predictions = model.predict(new_wind_speeds)\n",
    "print('Predicted Power Output:', predictions)"
   ]
  },
  {
   "cell_type": "code",
   "execution_count": null,
   "id": "0b0eea06",
   "metadata": {},
   "outputs": [],
   "source": [
    "# Visualization\n",
    "plt.scatter(X, y, color='blue', label='Actual Data')\n",
    "plt.plot(X, model.predict(X), color='red', label='Regression Line')\n",
    "plt.xlabel('Wind Speed (m/s)')\n",
    "plt.ylabel('Power Output (kW)')\n",
    "plt.legend()\n",
    "plt.show()"
   ]
  }
 ],
 "metadata": {},
 "nbformat": 4,
 "nbformat_minor": 5
}
